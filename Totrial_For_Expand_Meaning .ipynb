{
 "cells": [
  {
   "cell_type": "markdown",
   "id": "90479eb2",
   "metadata": {},
   "source": [
    "#### Can anyone explain what is the meaning of this line of code as well what the differnce between expand=True and expand=False and [0]  and  [1] ? "
   ]
  },
  {
   "cell_type": "code",
   "execution_count": null,
   "id": "24a699d6",
   "metadata": {},
   "outputs": [],
   "source": [
    "all_data['Title']= all_data['name'].str.split(', ', expand=True)[1].str.split('.', expand=True)[0]"
   ]
  },
  {
   "cell_type": "markdown",
   "id": "6835bf6d",
   "metadata": {},
   "source": [
    "#### for simplicity and readability let's complete code you have posted on the top ,firstly let's make dataframe named raw_data "
   ]
  },
  {
   "cell_type": "code",
   "execution_count": 22,
   "id": "e8899460",
   "metadata": {},
   "outputs": [
    {
     "data": {
      "text/html": [
       "<div>\n",
       "<style scoped>\n",
       "    .dataframe tbody tr th:only-of-type {\n",
       "        vertical-align: middle;\n",
       "    }\n",
       "\n",
       "    .dataframe tbody tr th {\n",
       "        vertical-align: top;\n",
       "    }\n",
       "\n",
       "    .dataframe thead th {\n",
       "        text-align: right;\n",
       "    }\n",
       "</style>\n",
       "<table border=\"1\" class=\"dataframe\">\n",
       "  <thead>\n",
       "    <tr style=\"text-align: right;\">\n",
       "      <th></th>\n",
       "      <th>name</th>\n",
       "    </tr>\n",
       "  </thead>\n",
       "  <tbody>\n",
       "    <tr>\n",
       "      <th>0</th>\n",
       "      <td>Ali, Mr.Mohamed</td>\n",
       "    </tr>\n",
       "    <tr>\n",
       "      <th>1</th>\n",
       "      <td>Hesham, Mrs.Alia</td>\n",
       "    </tr>\n",
       "    <tr>\n",
       "      <th>2</th>\n",
       "      <td>Samer, Mr.Ahmad</td>\n",
       "    </tr>\n",
       "  </tbody>\n",
       "</table>\n",
       "</div>"
      ],
      "text/plain": [
       "               name\n",
       "0   Ali, Mr.Mohamed\n",
       "1  Hesham, Mrs.Alia\n",
       "2   Samer, Mr.Ahmad"
      ]
     },
     "execution_count": 22,
     "metadata": {},
     "output_type": "execute_result"
    }
   ],
   "source": [
    "import pandas as pd\n",
    "names = ['Ali, Mr.Mohamed' , 'Hesham, Mrs.Alia' , 'Samer, Mr.Ahmad']\n",
    "raw_data = pd.DataFrame({'name':names})\n",
    "raw_data"
   ]
  },
  {
   "cell_type": "markdown",
   "id": "8ccac9b1",
   "metadata": {},
   "source": [
    "#### Firslty , Expand=False series index containing list of string as we can see below "
   ]
  },
  {
   "cell_type": "code",
   "execution_count": 28,
   "id": "3c512c41",
   "metadata": {},
   "outputs": [
    {
     "data": {
      "text/plain": [
       "0     [Ali,  Mr.Mohamed]\n",
       "1    [Hesham,  Mrs.Alia]\n",
       "2     [Samer,  Mr.Ahmad]\n",
       "Name: name, dtype: object"
      ]
     },
     "execution_count": 28,
     "metadata": {},
     "output_type": "execute_result"
    }
   ],
   "source": [
    "raw_data['name'].str.split(',',expand=False)"
   ]
  },
  {
   "cell_type": "markdown",
   "id": "7b823e4c",
   "metadata": {},
   "source": [
    "#### Secondly ,Expand the split string into separate columns ,which Expand =True return DataFrame MultiIndex expanding dimensionality which renders a set of columns of strings as we can see below."
   ]
  },
  {
   "cell_type": "code",
   "execution_count": 23,
   "id": "23275183",
   "metadata": {},
   "outputs": [
    {
     "data": {
      "text/html": [
       "<div>\n",
       "<style scoped>\n",
       "    .dataframe tbody tr th:only-of-type {\n",
       "        vertical-align: middle;\n",
       "    }\n",
       "\n",
       "    .dataframe tbody tr th {\n",
       "        vertical-align: top;\n",
       "    }\n",
       "\n",
       "    .dataframe thead th {\n",
       "        text-align: right;\n",
       "    }\n",
       "</style>\n",
       "<table border=\"1\" class=\"dataframe\">\n",
       "  <thead>\n",
       "    <tr style=\"text-align: right;\">\n",
       "      <th></th>\n",
       "      <th>0</th>\n",
       "      <th>1</th>\n",
       "    </tr>\n",
       "  </thead>\n",
       "  <tbody>\n",
       "    <tr>\n",
       "      <th>0</th>\n",
       "      <td>Ali,</td>\n",
       "      <td>Mr.Mohamed</td>\n",
       "    </tr>\n",
       "    <tr>\n",
       "      <th>1</th>\n",
       "      <td>Hesham,</td>\n",
       "      <td>Mrs.Alia</td>\n",
       "    </tr>\n",
       "    <tr>\n",
       "      <th>2</th>\n",
       "      <td>Samer,</td>\n",
       "      <td>Mr.Ahmad</td>\n",
       "    </tr>\n",
       "  </tbody>\n",
       "</table>\n",
       "</div>"
      ],
      "text/plain": [
       "         0           1\n",
       "0     Ali,  Mr.Mohamed\n",
       "1  Hesham,    Mrs.Alia\n",
       "2   Samer,    Mr.Ahmad"
      ]
     },
     "execution_count": 23,
     "metadata": {},
     "output_type": "execute_result"
    }
   ],
   "source": [
    "raw_data['name'].str.split(expand=True)"
   ]
  },
  {
   "cell_type": "markdown",
   "id": "283dc9e4",
   "metadata": {},
   "source": [
    "#### Thirdly , when we use expand=True with [1] which mean get the second column \" the column of name 1\" as we can see below :"
   ]
  },
  {
   "cell_type": "code",
   "execution_count": 29,
   "id": "be58bfb3",
   "metadata": {},
   "outputs": [
    {
     "data": {
      "text/plain": [
       "0     Mr.Mohamed\n",
       "1       Mrs.Alia\n",
       "2       Mr.Ahmad\n",
       "Name: 1, dtype: object"
      ]
     },
     "execution_count": 29,
     "metadata": {},
     "output_type": "execute_result"
    }
   ],
   "source": [
    "sub_data =raw_data['name'].str.split(',',expand=True)[1]\n",
    "sub_data"
   ]
  },
  {
   "cell_type": "markdown",
   "id": "74341a09",
   "metadata": {},
   "source": [
    "#### let's make a column for Title ,if we look above we can see that they're separated by '.' , so we are going to split on the '.' and just take the first thing  "
   ]
  },
  {
   "cell_type": "code",
   "execution_count": 27,
   "id": "891c7223",
   "metadata": {},
   "outputs": [
    {
     "data": {
      "text/plain": [
       "0      Mr\n",
       "1     Mrs\n",
       "2      Mr\n",
       "Name: Title, dtype: object"
      ]
     },
     "execution_count": 27,
     "metadata": {},
     "output_type": "execute_result"
    }
   ],
   "source": [
    "raw_data['Title'] = sub_data.str.split('.',expand=True)[0]\n",
    "raw_data['Title']"
   ]
  },
  {
   "cell_type": "markdown",
   "id": "8220a5bb",
   "metadata": {},
   "source": [
    "#### we can do that above  with the one line of code as we can see below "
   ]
  },
  {
   "cell_type": "code",
   "execution_count": 32,
   "id": "ad2873f1",
   "metadata": {},
   "outputs": [
    {
     "data": {
      "text/plain": [
       "0      Mr\n",
       "1     Mrs\n",
       "2      Mr\n",
       "Name: Title, dtype: object"
      ]
     },
     "execution_count": 32,
     "metadata": {},
     "output_type": "execute_result"
    }
   ],
   "source": [
    "raw_data['Title'] = raw_data['name'].str.split(',',expand=True)[1].str.split('.',expand=True)[0]\n",
    "raw_data['Title']"
   ]
  }
 ],
 "metadata": {
  "kernelspec": {
   "display_name": "Python 3 (ipykernel)",
   "language": "python",
   "name": "python3"
  },
  "language_info": {
   "codemirror_mode": {
    "name": "ipython",
    "version": 3
   },
   "file_extension": ".py",
   "mimetype": "text/x-python",
   "name": "python",
   "nbconvert_exporter": "python",
   "pygments_lexer": "ipython3",
   "version": "3.7.1"
  }
 },
 "nbformat": 4,
 "nbformat_minor": 5
}
